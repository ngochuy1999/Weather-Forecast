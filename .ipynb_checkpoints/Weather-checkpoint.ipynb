{
 "cells": [
  {
   "cell_type": "code",
   "execution_count": 1,
   "metadata": {},
   "outputs": [],
   "source": [
    "import tensorflow as tf\n",
    "tf.compat.v1.disable_eager_execution()\n",
    "import pandas as pd\n",
    "import numpy as np\n",
    "import matplotlib.pyplot as plt\n",
    "%matplotlib inline"
   ]
  },
  {
   "cell_type": "code",
   "execution_count": 2,
   "metadata": {
    "pycharm": {
     "name": "#%%\n"
    }
   },
   "outputs": [
    {
     "data": {
      "text/html": [
       "<div>\n",
       "<style scoped>\n",
       "    .dataframe tbody tr th:only-of-type {\n",
       "        vertical-align: middle;\n",
       "    }\n",
       "\n",
       "    .dataframe tbody tr th {\n",
       "        vertical-align: top;\n",
       "    }\n",
       "\n",
       "    .dataframe thead th {\n",
       "        text-align: right;\n",
       "    }\n",
       "</style>\n",
       "<table border=\"1\" class=\"dataframe\">\n",
       "  <thead>\n",
       "    <tr style=\"text-align: right;\">\n",
       "      <th></th>\n",
       "      <th>time</th>\n",
       "      <th>Temperature</th>\n",
       "    </tr>\n",
       "  </thead>\n",
       "  <tbody>\n",
       "    <tr>\n",
       "      <th>0</th>\n",
       "      <td>20200427T0000</td>\n",
       "      <td>19.097002</td>\n",
       "    </tr>\n",
       "    <tr>\n",
       "      <th>1</th>\n",
       "      <td>20200427T0100</td>\n",
       "      <td>18.957000</td>\n",
       "    </tr>\n",
       "    <tr>\n",
       "      <th>2</th>\n",
       "      <td>20200427T0200</td>\n",
       "      <td>18.877000</td>\n",
       "    </tr>\n",
       "    <tr>\n",
       "      <th>3</th>\n",
       "      <td>20200427T0300</td>\n",
       "      <td>18.767002</td>\n",
       "    </tr>\n",
       "    <tr>\n",
       "      <th>4</th>\n",
       "      <td>20200427T0400</td>\n",
       "      <td>18.747002</td>\n",
       "    </tr>\n",
       "    <tr>\n",
       "      <th>5</th>\n",
       "      <td>20200427T0500</td>\n",
       "      <td>18.737001</td>\n",
       "    </tr>\n",
       "    <tr>\n",
       "      <th>6</th>\n",
       "      <td>20200427T0600</td>\n",
       "      <td>18.967001</td>\n",
       "    </tr>\n",
       "    <tr>\n",
       "      <th>7</th>\n",
       "      <td>20200427T0700</td>\n",
       "      <td>19.917002</td>\n",
       "    </tr>\n",
       "    <tr>\n",
       "      <th>8</th>\n",
       "      <td>20200427T0800</td>\n",
       "      <td>20.997002</td>\n",
       "    </tr>\n",
       "    <tr>\n",
       "      <th>9</th>\n",
       "      <td>20200427T0900</td>\n",
       "      <td>21.897001</td>\n",
       "    </tr>\n",
       "    <tr>\n",
       "      <th>10</th>\n",
       "      <td>20200427T1000</td>\n",
       "      <td>22.607002</td>\n",
       "    </tr>\n",
       "    <tr>\n",
       "      <th>11</th>\n",
       "      <td>20200427T1100</td>\n",
       "      <td>23.197000</td>\n",
       "    </tr>\n",
       "    <tr>\n",
       "      <th>12</th>\n",
       "      <td>20200427T1200</td>\n",
       "      <td>23.747002</td>\n",
       "    </tr>\n",
       "    <tr>\n",
       "      <th>13</th>\n",
       "      <td>20200427T1300</td>\n",
       "      <td>24.227001</td>\n",
       "    </tr>\n",
       "    <tr>\n",
       "      <th>14</th>\n",
       "      <td>20200427T1400</td>\n",
       "      <td>24.657001</td>\n",
       "    </tr>\n",
       "    <tr>\n",
       "      <th>15</th>\n",
       "      <td>20200427T1500</td>\n",
       "      <td>24.907001</td>\n",
       "    </tr>\n",
       "    <tr>\n",
       "      <th>16</th>\n",
       "      <td>20200427T1600</td>\n",
       "      <td>24.927002</td>\n",
       "    </tr>\n",
       "    <tr>\n",
       "      <th>17</th>\n",
       "      <td>20200427T1700</td>\n",
       "      <td>24.627000</td>\n",
       "    </tr>\n",
       "    <tr>\n",
       "      <th>18</th>\n",
       "      <td>20200427T1800</td>\n",
       "      <td>23.717001</td>\n",
       "    </tr>\n",
       "    <tr>\n",
       "      <th>19</th>\n",
       "      <td>20200427T1900</td>\n",
       "      <td>22.687002</td>\n",
       "    </tr>\n",
       "    <tr>\n",
       "      <th>20</th>\n",
       "      <td>20200427T2000</td>\n",
       "      <td>22.017002</td>\n",
       "    </tr>\n",
       "    <tr>\n",
       "      <th>21</th>\n",
       "      <td>20200427T2100</td>\n",
       "      <td>21.337002</td>\n",
       "    </tr>\n",
       "    <tr>\n",
       "      <th>22</th>\n",
       "      <td>20200427T2200</td>\n",
       "      <td>20.767002</td>\n",
       "    </tr>\n",
       "    <tr>\n",
       "      <th>23</th>\n",
       "      <td>20200427T2300</td>\n",
       "      <td>20.067001</td>\n",
       "    </tr>\n",
       "  </tbody>\n",
       "</table>\n",
       "</div>"
      ],
      "text/plain": [
       "             time  Temperature\n",
       "0   20200427T0000    19.097002\n",
       "1   20200427T0100    18.957000\n",
       "2   20200427T0200    18.877000\n",
       "3   20200427T0300    18.767002\n",
       "4   20200427T0400    18.747002\n",
       "5   20200427T0500    18.737001\n",
       "6   20200427T0600    18.967001\n",
       "7   20200427T0700    19.917002\n",
       "8   20200427T0800    20.997002\n",
       "9   20200427T0900    21.897001\n",
       "10  20200427T1000    22.607002\n",
       "11  20200427T1100    23.197000\n",
       "12  20200427T1200    23.747002\n",
       "13  20200427T1300    24.227001\n",
       "14  20200427T1400    24.657001\n",
       "15  20200427T1500    24.907001\n",
       "16  20200427T1600    24.927002\n",
       "17  20200427T1700    24.627000\n",
       "18  20200427T1800    23.717001\n",
       "19  20200427T1900    22.687002\n",
       "20  20200427T2000    22.017002\n",
       "21  20200427T2100    21.337002\n",
       "22  20200427T2200    20.767002\n",
       "23  20200427T2300    20.067001"
      ]
     },
     "execution_count": 2,
     "metadata": {},
     "output_type": "execute_result"
    }
   ],
   "source": [
    "file_path = 'dataexport_20200511T035959.csv'\n",
    "data=pd.read_csv(file_path, delimiter=',',header=9,skipinitialspace=True)\n",
    "data.head(24)"
   ]
  },
  {
   "cell_type": "code",
   "execution_count": 3,
   "metadata": {
    "pycharm": {
     "name": "#%%\n"
    }
   },
   "outputs": [],
   "source": [
    "temperature = np.array(data['Temperature'])\n",
    "num_periods = 24\n",
    "f_horizon = 1\n",
    "x_train = temperature[:(len(temperature)-(num_periods*2))]\n",
    "x_batches = x_train.reshape(-1, num_periods, 1)\n",
    "y_train = temperature[1:(len(temperature)-(num_periods*2))+f_horizon]\n",
    "y_batches = y_train.reshape(-1, num_periods, 1)\n"
   ]
  },
  {
   "cell_type": "code",
   "execution_count": 4,
   "metadata": {
    "pycharm": {
     "name": "#%%\n"
    }
   },
   "outputs": [],
   "source": [
    "def test_data(series, forecast, num):\n",
    "    testX = temperature[-(num + forecast):][:num].reshape(-1, num_periods, 1)\n",
    "    testY = temperature[-(num):].reshape(-1, num_periods, 1)\n",
    "    return testX, testY\n",
    "X_test, Y_test = test_data(temperature, f_horizon, 24*2)\n"
   ]
  },
  {
   "cell_type": "code",
   "execution_count": 5,
   "metadata": {
    "pycharm": {
     "name": "#%%\n"
    }
   },
   "outputs": [
    {
     "name": "stdout",
     "output_type": "stream",
     "text": [
      "Tensor(\"Placeholder:0\", shape=(None, 24, 1), dtype=float32)\n",
      "Tensor(\"Placeholder_1:0\", shape=(None, 24, 1), dtype=float32)\n",
      "WARNING:tensorflow:From <ipython-input-5-8ed469eb677f>:10: BasicRNNCell.__init__ (from tensorflow.python.ops.rnn_cell_impl) is deprecated and will be removed in a future version.\n",
      "Instructions for updating:\n",
      "This class is equivalent as tf.keras.layers.SimpleRNNCell, and will be replaced by that in Tensorflow 2.0.\n",
      "WARNING:tensorflow:From <ipython-input-5-8ed469eb677f>:11: dynamic_rnn (from tensorflow.python.ops.rnn) is deprecated and will be removed in a future version.\n",
      "Instructions for updating:\n",
      "Please use `keras.layers.RNN(cell)`, which is equivalent to this API\n",
      "WARNING:tensorflow:From c:\\users\\hi\\pycharmprojects\\weatherforecast\\venv\\lib\\site-packages\\tensorflow\\python\\ops\\rnn_cell_impl.py:454: Layer.add_variable (from tensorflow.python.keras.engine.base_layer_v1) is deprecated and will be removed in a future version.\n",
      "Instructions for updating:\n",
      "Please use `layer.add_weight` method instead.\n",
      "WARNING:tensorflow:From c:\\users\\hi\\pycharmprojects\\weatherforecast\\venv\\lib\\site-packages\\tensorflow\\python\\ops\\resource_variable_ops.py:1659: calling BaseResourceVariable.__init__ (from tensorflow.python.ops.resource_variable_ops) with constraint is deprecated and will be removed in a future version.\n",
      "Instructions for updating:\n",
      "If using Keras pass *_constraint arguments to layers.\n",
      "WARNING:tensorflow:From c:\\users\\hi\\pycharmprojects\\weatherforecast\\venv\\lib\\site-packages\\tensorflow\\python\\ops\\rnn_cell_impl.py:460: calling Zeros.__init__ (from tensorflow.python.ops.init_ops) with dtype is deprecated and will be removed in a future version.\n",
      "Instructions for updating:\n",
      "Call initializer instance with the dtype argument instead of passing it to the constructor\n",
      "WARNING:tensorflow:From <ipython-input-5-8ed469eb677f>:14: dense (from tensorflow.python.layers.core) is deprecated and will be removed in a future version.\n",
      "Instructions for updating:\n",
      "Use keras.layers.Dense instead.\n",
      "WARNING:tensorflow:From c:\\users\\hi\\pycharmprojects\\weatherforecast\\venv\\lib\\site-packages\\tensorflow\\python\\layers\\core.py:187: Layer.apply (from tensorflow.python.keras.engine.base_layer_v1) is deprecated and will be removed in a future version.\n",
      "Instructions for updating:\n",
      "Please use `layer.__call__` method instead.\n",
      "Tensor(\"softmax/BiasAdd:0\", shape=(None, 1), dtype=float32)\n"
     ]
    }
   ],
   "source": [
    "tf.compat.v1.reset_default_graph()\n",
    "rnn_size = 100\n",
    "learning_rate=0.001\n",
    "\n",
    "X = tf.compat.v1.placeholder(tf.float32, [None, num_periods, 1])\n",
    "Y = tf.compat.v1.placeholder(tf.float32, [None, num_periods, 1])\n",
    "print(X)\n",
    "print(Y)\n",
    "\n",
    "rnn_cells=tf.compat.v1.nn.rnn_cell.BasicRNNCell(num_units=rnn_size, activation=tf.nn.relu)\n",
    "rnn_output, states = tf.compat.v1.nn.dynamic_rnn(rnn_cells, X, dtype=tf.float32)\n",
    "\n",
    "output=tf.reshape(rnn_output, [-1, rnn_size])\n",
    "logit=tf.compat.v1.layers.dense(output, 1, name=\"softmax\")\n",
    "\n",
    "outputs=tf.reshape(logit, [-1, num_periods, 1])\n",
    "print(logit)\n",
    "\n",
    "loss = tf.reduce_sum(tf.square(outputs - Y))\n",
    "\n",
    "accuracy = tf.reduce_mean(tf.cast(tf.equal(tf.argmax(logit, 1), tf.cast(Y, tf.int64)), tf.float32))\n",
    "optimizer = tf.compat.v1.train.AdamOptimizer(learning_rate=learning_rate)\n",
    "train_step=optimizer.minimize(loss)\n"
   ]
  },
  {
   "cell_type": "code",
   "execution_count": 6,
   "metadata": {
    "pycharm": {
     "name": "#%%\n"
    }
   },
   "outputs": [],
   "source": [
    "epochs = 1000\n",
    "dropout_keep_prob = tf.compat.v1.placeholder(tf.float32)\n",
    "sess = tf.compat.v1.Session()\n",
    "init = tf.compat.v1.global_variables_initializer()\n",
    "sess.run(init)\n",
    "saver = tf.compat.v1.train.Saver()\n",
    "\n",
    "for epoch in range(epochs):\n",
    "    train_dict = {X: x_batches, Y: y_batches, dropout_keep_prob:0.5}\n",
    "    sess.run(train_step, feed_dict=train_dict)"
   ]
  },
  {
   "cell_type": "code",
   "execution_count": 7,
   "metadata": {
    "pycharm": {
     "name": "#%%\n"
    }
   },
   "outputs": [],
   "source": [
    "saver = tf.compat.v1.train.Saver()\n",
    "save_path = saver.save(sess, \"models/model2.ckpt\")"
   ]
  },
  {
   "cell_type": "code",
   "execution_count": 8,
   "metadata": {
    "pycharm": {
     "name": "#%%\n"
    }
   },
   "outputs": [
    {
     "name": "stdout",
     "output_type": "stream",
     "text": [
      "INFO:tensorflow:Restoring parameters from models/model2.ckpt\n",
      "Tensor(\"Reshape:0\", shape=(None, 100), dtype=float32)\n",
      "[[[26.573257]\n",
      "  [26.14669 ]\n",
      "  [25.978092]\n",
      "  [25.754509]\n",
      "  [25.571728]\n",
      "  [26.799955]\n",
      "  [28.854755]\n",
      "  [28.524418]\n",
      "  [30.534714]\n",
      "  [35.012184]\n",
      "  [37.882355]\n",
      "  [38.530354]\n",
      "  [38.97026 ]\n",
      "  [39.37126 ]\n",
      "  [39.588562]\n",
      "  [38.795036]\n",
      "  [37.26956 ]\n",
      "  [34.0728  ]\n",
      "  [32.582012]\n",
      "  [31.005905]\n",
      "  [28.743011]\n",
      "  [27.488056]\n",
      "  [27.103025]\n",
      "  [26.53193 ]]\n",
      "\n",
      " [[26.37186 ]\n",
      "  [26.15403 ]\n",
      "  [26.01724 ]\n",
      "  [25.902878]\n",
      "  [25.60406 ]\n",
      "  [26.42337 ]\n",
      "  [27.963943]\n",
      "  [28.279411]\n",
      "  [30.490923]\n",
      "  [33.85447 ]\n",
      "  [35.54345 ]\n",
      "  [35.891907]\n",
      "  [36.69278 ]\n",
      "  [37.58573 ]\n",
      "  [37.455288]\n",
      "  [36.14074 ]\n",
      "  [34.450886]\n",
      "  [32.098732]\n",
      "  [30.60394 ]\n",
      "  [28.91463 ]\n",
      "  [27.243828]\n",
      "  [26.384842]\n",
      "  [26.497051]\n",
      "  [26.41069 ]]]\n"
     ]
    }
   ],
   "source": [
    "with tf.compat.v1.Session() as sess:\n",
    "  # Restore variables from disk.\n",
    "    saver.restore(sess, \"models/model2.ckpt\")\n",
    "    print(output)\n",
    "    y_pred=sess.run(outputs, feed_dict={X: X_test})\n",
    "    print (y_pred)\n"
   ]
  },
  {
   "cell_type": "code",
   "execution_count": 9,
   "metadata": {
    "pycharm": {
     "name": "#%%\n"
    }
   },
   "outputs": [
    {
     "data": {
      "image/png": "[encoded data removed]",
      "text/plain": [
       "<Figure size 1080x720 with 1 Axes>"
      ]
     },
     "metadata": {
      "needs_background": "light"
     },
     "output_type": "display_data"
    }
   ],
   "source": [
    "plt.figure(figsize=(15,10))\n",
    "plt.title(\"Compare Weather Forecast vs Actual\", fontsize=14)\n",
    "plt.plot(pd.Series(np.ravel(Y_test)),\"bo\", markersize=10, label=\"Actual\")\n",
    "plt.plot(pd.Series(np.ravel(y_pred)),\"r.\", markersize=10, label=\"Forecast\")\n",
    "plt.legend(loc=\"upper left\")\n",
    "plt.xlabel(\"Time Periods\")\n",
    "plt.show()\n"
   ]
  }
 ],
 "metadata": {
  "kernelspec": {
   "display_name": "Python 3",
   "language": "python",
   "name": "python3"
  },
  "language_info": {
   "codemirror_mode": {
    "name": "ipython",
    "version": 3
   },
   "file_extension": ".py",
   "mimetype": "text/x-python",
   "name": "python",
   "nbconvert_exporter": "python",
   "pygments_lexer": "ipython3",
   "version": "3.8.2"
  }
 },
 "nbformat": 4,
 "nbformat_minor": 1
}
