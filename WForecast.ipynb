{
 "cells": [
  {
   "cell_type": "code",
   "execution_count": 1,
   "metadata": {},
   "outputs": [],
   "source": [
    "import tensorflow as tf\n",
    "tf.compat.v1.disable_eager_execution()\n",
    "import pandas as pd\n",
    "import numpy as np\n",
    "import matplotlib.pyplot as plt\n",
    "%matplotlib inline\n",
    "\n"
   ]
  },
  {
   "cell_type": "code",
   "execution_count": 2,
   "metadata": {},
   "outputs": [
    {
     "data": {
      "text/plain": "         timestamp  Temperature  Precipitation  Wind Speed  Wind Direction\n0    20200607T0000    29.137028            0.0    8.466324       167.27565\n1    20200607T0100    28.957027            0.0    8.986805       168.02386\n2    20200607T0200    28.787027            0.0    9.682458       172.09283\n3    20200607T0300    28.677027            0.0   10.137212       176.98721\n4    20200607T0400    28.487026            0.0   10.389601       180.00000\n..             ...          ...            ...         ...             ...\n187  20200614T1900    27.757027            0.0    8.339639       153.43495\n188  20200614T2000    27.997026            0.2    7.757685       164.05460\n189  20200614T2100    27.867027            1.4    7.501892       173.88449\n190  20200614T2200    27.787027            1.4    7.212506       184.23639\n191  20200614T2300    27.677027            0.6    5.915039       187.76517\n\n[192 rows x 5 columns]",
      "text/html": "<div>\n<style scoped>\n    .dataframe tbody tr th:only-of-type {\n        vertical-align: middle;\n    }\n\n    .dataframe tbody tr th {\n        vertical-align: top;\n    }\n\n    .dataframe thead th {\n        text-align: right;\n    }\n</style>\n<table border=\"1\" class=\"dataframe\">\n  <thead>\n    <tr style=\"text-align: right;\">\n      <th></th>\n      <th>timestamp</th>\n      <th>Temperature</th>\n      <th>Precipitation</th>\n      <th>Wind Speed</th>\n      <th>Wind Direction</th>\n    </tr>\n  </thead>\n  <tbody>\n    <tr>\n      <th>0</th>\n      <td>20200607T0000</td>\n      <td>29.137028</td>\n      <td>0.0</td>\n      <td>8.466324</td>\n      <td>167.27565</td>\n    </tr>\n    <tr>\n      <th>1</th>\n      <td>20200607T0100</td>\n      <td>28.957027</td>\n      <td>0.0</td>\n      <td>8.986805</td>\n      <td>168.02386</td>\n    </tr>\n    <tr>\n      <th>2</th>\n      <td>20200607T0200</td>\n      <td>28.787027</td>\n      <td>0.0</td>\n      <td>9.682458</td>\n      <td>172.09283</td>\n    </tr>\n    <tr>\n      <th>3</th>\n      <td>20200607T0300</td>\n      <td>28.677027</td>\n      <td>0.0</td>\n      <td>10.137212</td>\n      <td>176.98721</td>\n    </tr>\n    <tr>\n      <th>4</th>\n      <td>20200607T0400</td>\n      <td>28.487026</td>\n      <td>0.0</td>\n      <td>10.389601</td>\n      <td>180.00000</td>\n    </tr>\n    <tr>\n      <th>...</th>\n      <td>...</td>\n      <td>...</td>\n      <td>...</td>\n      <td>...</td>\n      <td>...</td>\n    </tr>\n    <tr>\n      <th>187</th>\n      <td>20200614T1900</td>\n      <td>27.757027</td>\n      <td>0.0</td>\n      <td>8.339639</td>\n      <td>153.43495</td>\n    </tr>\n    <tr>\n      <th>188</th>\n      <td>20200614T2000</td>\n      <td>27.997026</td>\n      <td>0.2</td>\n      <td>7.757685</td>\n      <td>164.05460</td>\n    </tr>\n    <tr>\n      <th>189</th>\n      <td>20200614T2100</td>\n      <td>27.867027</td>\n      <td>1.4</td>\n      <td>7.501892</td>\n      <td>173.88449</td>\n    </tr>\n    <tr>\n      <th>190</th>\n      <td>20200614T2200</td>\n      <td>27.787027</td>\n      <td>1.4</td>\n      <td>7.212506</td>\n      <td>184.23639</td>\n    </tr>\n    <tr>\n      <th>191</th>\n      <td>20200614T2300</td>\n      <td>27.677027</td>\n      <td>0.6</td>\n      <td>5.915039</td>\n      <td>187.76517</td>\n    </tr>\n  </tbody>\n</table>\n<p>192 rows × 5 columns</p>\n</div>"
     },
     "execution_count": 2,
     "metadata": {},
     "output_type": "execute_result"
    }
   ],
   "source": [
    "file_path = 'HANOI.csv'\n",
    "data=pd.read_csv(file_path, delimiter=',',header=9,skipinitialspace=True)\n",
    "data"
   ]
  },
  {
   "cell_type": "code",
   "execution_count": 3,
   "metadata": {},
   "outputs": [
    {
     "name": "stdout",
     "output_type": "stream",
     "text": [
      "(2, 48, 1)\n"
     ]
    }
   ],
   "source": [
    "temperature = np.array(data['Temperature'])\n",
    "num_periods = 48\n",
    "f_horizon = 1\n",
    "x_data = temperature[:(len(temperature)-(num_periods*2))]\n",
    "x_batches = x_data.reshape(-1, num_periods, 1)\n",
    "\n",
    "y_data = temperature[1:(len(temperature)-(num_periods*2))+f_horizon]\n",
    "y_batches = y_data.reshape(-1, num_periods, 1)\n",
    "print(y_batches.shape)"
   ]
  },
  {
   "cell_type": "code",
   "execution_count": 4,
   "metadata": {},
   "outputs": [
    {
     "name": "stdout",
     "output_type": "stream",
     "text": [
      "(2, 48, 1)\n"
     ]
    }
   ],
   "source": [
    "def test_data(series, forecast, num):\n",
    "    testX = temperature[-(num + forecast):][:num].reshape(-1, num_periods, 1)\n",
    "    testY = temperature[-(num):].reshape(-1, num_periods, 1)\n",
    "    return testX, testY\n",
    "X_test, Y_test = test_data(temperature, f_horizon, 48*2)\n",
    "print(X_test.shape)\n"
   ]
  },
  {
   "cell_type": "code",
   "execution_count": 5,
   "metadata": {},
   "outputs": [
    {
     "name": "stdout",
     "output_type": "stream",
     "text": [
      "WARNING:tensorflow:From <ipython-input-5-1430bea6306b>:11: BasicRNNCell.__init__ (from tensorflow.python.ops.rnn_cell_impl) is deprecated and will be removed in a future version.\n",
      "Instructions for updating:\n",
      "This class is equivalent as tf.keras.layers.SimpleRNNCell, and will be replaced by that in Tensorflow 2.0.\n",
      "WARNING:tensorflow:From <ipython-input-5-1430bea6306b>:12: dynamic_rnn (from tensorflow.python.ops.rnn) is deprecated and will be removed in a future version.\n",
      "Instructions for updating:\n",
      "Please use `keras.layers.RNN(cell)`, which is equivalent to this API\n",
      "WARNING:tensorflow:From c:\\users\\hi\\pycharmprojects\\weatherforecast\\venv\\lib\\site-packages\\tensorflow\\python\\ops\\rnn_cell_impl.py:454: Layer.add_variable (from tensorflow.python.keras.engine.base_layer_v1) is deprecated and will be removed in a future version.\n",
      "Instructions for updating:\n",
      "Please use `layer.add_weight` method instead.\n",
      "WARNING:tensorflow:From c:\\users\\hi\\pycharmprojects\\weatherforecast\\venv\\lib\\site-packages\\tensorflow\\python\\ops\\resource_variable_ops.py:1659: calling BaseResourceVariable.__init__ (from tensorflow.python.ops.resource_variable_ops) with constraint is deprecated and will be removed in a future version.\n",
      "Instructions for updating:\n",
      "If using Keras pass *_constraint arguments to layers.\n",
      "WARNING:tensorflow:From c:\\users\\hi\\pycharmprojects\\weatherforecast\\venv\\lib\\site-packages\\tensorflow\\python\\ops\\rnn_cell_impl.py:460: calling Zeros.__init__ (from tensorflow.python.ops.init_ops) with dtype is deprecated and will be removed in a future version.\n",
      "Instructions for updating:\n",
      "Call initializer instance with the dtype argument instead of passing it to the constructor\n",
      "WARNING:tensorflow:From <ipython-input-5-1430bea6306b>:15: dense (from tensorflow.python.layers.core) is deprecated and will be removed in a future version.\n",
      "Instructions for updating:\n",
      "Use keras.layers.Dense instead.\n",
      "WARNING:tensorflow:From c:\\users\\hi\\pycharmprojects\\weatherforecast\\venv\\lib\\site-packages\\tensorflow\\python\\layers\\core.py:187: Layer.apply (from tensorflow.python.keras.engine.base_layer_v1) is deprecated and will be removed in a future version.\n",
      "Instructions for updating:\n",
      "Please use `layer.__call__` method instead.\n",
      "Tensor(\"softmax/BiasAdd:0\", shape=(None, 1), dtype=float32)\n"
     ]
    }
   ],
   "source": [
    "tf.compat.v1.reset_default_graph()\n",
    "inputs = 1\n",
    "rnn_size = 100\n",
    "output = 1\n",
    "learning_rate=0.001\n",
    "dropout_keep_prob = tf.compat.v1.placeholder(tf.float32)\n",
    "\n",
    "X = tf.compat.v1.placeholder(tf.float32, [None, num_periods, 1])\n",
    "Y = tf.compat.v1.placeholder(tf.float32, [None, num_periods, 1])\n",
    "\n",
    "rnn_cells=tf.compat.v1.nn.rnn_cell.BasicRNNCell(num_units=rnn_size, activation=tf.nn.relu6)\n",
    "rnn_output, states = tf.compat.v1.nn.dynamic_rnn(rnn_cells, X, dtype=tf.float32)\n",
    "\n",
    "output=tf.reshape(rnn_output, [-1, rnn_size])\n",
    "logit=tf.compat.v1.layers.dense(output, 1, name=\"softmax\")\n",
    "\n",
    "outputs=tf.reshape(logit, [-1, num_periods, 1])\n",
    "print(logit)\n",
    "\n",
    "loss = tf.reduce_sum(input_tensor=tf.square(outputs - Y))\n",
    "\n",
    "accuracy = tf.reduce_mean(input_tensor=tf.cast(tf.equal(tf.argmax(input=logit, axis=1), tf.cast(Y, tf.int64)), tf.float32))\n",
    "\n",
    "optimizer = tf.compat.v1.train.AdamOptimizer(learning_rate=learning_rate)\n",
    "train_step=optimizer.minimize(loss)\n",
    "\n",
    "init=tf.compat.v1.global_variables_initializer()"
   ]
  },
  {
   "cell_type": "code",
   "execution_count": 6,
   "metadata": {},
   "outputs": [],
   "source": [
    "epochs = 1000\n",
    "\n",
    "sess = tf.compat.v1.Session()\n",
    "init = tf.compat.v1.global_variables_initializer()\n",
    "sess.run(init)\n",
    "saver = tf.compat.v1.train.Saver()\n",
    "\n",
    "for epoch in range(epochs):\n",
    "    train_dict = {X: x_batches, Y: y_batches, dropout_keep_prob:0.5}\n",
    "    sess.run(train_step, feed_dict=train_dict)\n",
    "y_pred=sess.run(outputs, feed_dict={X: X_test})\n",
    "save_path = saver.save(sess, \"models/HANOI.ckpt\")\n"
   ]
  },
  {
   "cell_type": "code",
   "execution_count": 7,
   "metadata": {},
   "outputs": [
    {
     "name": "stdout",
     "output_type": "stream",
     "text": [
      "INFO:tensorflow:Restoring parameters from models/HANOI.ckpt\n",
      "[[[27.771275]\n",
      "  [27.670301]\n",
      "  [27.514309]\n",
      "  [27.273485]\n",
      "  [27.091272]\n",
      "  [27.940718]\n",
      "  [29.529057]\n",
      "  [31.713366]\n",
      "  [33.009945]\n",
      "  [33.435574]\n",
      "  [32.978546]\n",
      "  [32.90413 ]\n",
      "  [33.759697]\n",
      "  [35.32327 ]\n",
      "  [36.760773]\n",
      "  [37.13226 ]\n",
      "  [36.112576]\n",
      "  [34.547417]\n",
      "  [32.613297]\n",
      "  [30.79645 ]\n",
      "  [29.295267]\n",
      "  [28.494045]\n",
      "  [28.337486]\n",
      "  [28.467005]\n",
      "  [28.776361]\n",
      "  [29.228468]\n",
      "  [29.40157 ]\n",
      "  [28.976603]\n",
      "  [28.138334]\n",
      "  [27.791817]\n",
      "  [28.000145]\n",
      "  [28.931753]\n",
      "  [30.927458]\n",
      "  [33.286446]\n",
      "  [35.05543 ]\n",
      "  [35.478867]\n",
      "  [35.929733]\n",
      "  [36.396408]\n",
      "  [35.459885]\n",
      "  [33.8047  ]\n",
      "  [32.564926]\n",
      "  [31.652925]\n",
      "  [31.607544]\n",
      "  [31.818014]\n",
      "  [31.23622 ]\n",
      "  [30.016035]\n",
      "  [28.815205]\n",
      "  [28.330448]]\n",
      "\n",
      " [[28.606035]\n",
      "  [28.298018]\n",
      "  [28.04582 ]\n",
      "  [27.8724  ]\n",
      "  [27.400864]\n",
      "  [28.115808]\n",
      "  [29.114805]\n",
      "  [30.952202]\n",
      "  [32.397057]\n",
      "  [32.776085]\n",
      "  [31.925314]\n",
      "  [30.924593]\n",
      "  [30.385828]\n",
      "  [31.06962 ]\n",
      "  [33.10997 ]\n",
      "  [35.47553 ]\n",
      "  [35.796295]\n",
      "  [34.33717 ]\n",
      "  [32.631676]\n",
      "  [30.88576 ]\n",
      "  [29.183662]\n",
      "  [28.358227]\n",
      "  [28.328388]\n",
      "  [28.77696 ]\n",
      "  [29.506992]\n",
      "  [30.018862]\n",
      "  [29.856155]\n",
      "  [28.857653]\n",
      "  [27.914118]\n",
      "  [27.81857 ]\n",
      "  [27.934092]\n",
      "  [29.02244 ]\n",
      "  [30.990324]\n",
      "  [32.470676]\n",
      "  [33.35923 ]\n",
      "  [32.36549 ]\n",
      "  [30.667408]\n",
      "  [29.577559]\n",
      "  [29.489134]\n",
      "  [29.955183]\n",
      "  [30.306112]\n",
      "  [30.173895]\n",
      "  [29.449955]\n",
      "  [28.415117]\n",
      "  [27.812998]\n",
      "  [28.006033]\n",
      "  [28.409895]\n",
      "  [29.454   ]]]\n"
     ]
    }
   ],
   "source": [
    "with tf.compat.v1.Session() as sess:\n",
    "  # Restore variables from disk.\n",
    "    saver = tf.compat.v1.train.Saver()\n",
    "    saver.restore(sess, \"models/HANOI.ckpt\")\n",
    "    y_pred=sess.run(outputs, feed_dict={X: X_test})\n",
    "    print (y_pred)"
   ]
  },
  {
   "cell_type": "code",
   "execution_count": 8,
   "metadata": {
    "pycharm": {
     "name": "#%%\n"
    }
   },
   "outputs": [
    {
     "data": {
      "text/plain": "<Figure size 1080x720 with 1 Axes>",
      "image/png": "[encoded data removed]"
     },
     "metadata": {
      "needs_background": "light"
     },
     "output_type": "display_data"
    }
   ],
   "source": [
    "plt.figure(figsize=(15,10))\n",
    "plt.title(\"Compare Weather Forecast vs Actual\", fontsize=14)\n",
    "plt.plot(pd.Series(np.ravel(Y_test)),\"bo\",  markersize=9, label=\"Actual\")\n",
    "plt.plot(pd.Series(np.ravel(y_pred)),\"r.\",  markersize=9, label=\"Forecast\")\n",
    "plt.legend(loc=\"upper left\")\n",
    "plt.xlabel(\"Time Periods\")\n",
    "plt.show()\n"
   ]
  }
 ],
 "metadata": {
  "kernelspec": {
   "display_name": "Python 3",
   "language": "python",
   "name": "python3"
  },
  "language_info": {
   "codemirror_mode": {
    "name": "ipython",
    "version": 3
   },
   "file_extension": ".py",
   "mimetype": "text/x-python",
   "name": "python",
   "nbconvert_exporter": "python",
   "pygments_lexer": "ipython3",
   "version": "3.5.2"
  }
 },
 "nbformat": 4,
 "nbformat_minor": 2
}