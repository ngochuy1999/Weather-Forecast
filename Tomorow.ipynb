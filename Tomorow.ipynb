{
 "cells": [
  {
   "cell_type": "code",
   "execution_count": 4,
   "metadata": {},
   "outputs": [],
   "source": [
    "import tensorflow as tf\n",
    "tf.compat.v1.disable_eager_execution()\n",
    "import pandas as pd\n",
    "import numpy as np\n",
    "import matplotlib.pyplot as plt\n",
    "%matplotlib inline\n",
    "\n"
   ]
  },
  {
   "cell_type": "code",
   "execution_count": 5,
   "metadata": {},
   "outputs": [
    {
     "data": {
      "text/plain": "         timestamp  Temperature  Precipitation  Wind Speed  Wind Direction\n0    20200531T0000    27.083208            0.0    6.080693       151.18921\n1    20200531T0100    26.723207            0.0    6.213462       149.03624\n2    20200531T0200    26.303207            0.0    5.619714       148.57043\n3    20200531T0300    25.923206            0.0    5.124306       152.10272\n4    20200531T0400    25.633207            0.0    5.026425       147.99461\n..             ...          ...            ...         ...             ...\n355  20200614T1900    27.773207            0.0    5.986595       159.14554\n356  20200614T2000    27.563208            0.0    5.026425       147.99461\n357  20200614T2100    27.483208            0.0    3.960321       137.72630\n358  20200614T2200    27.113207            0.0    3.786256       129.28940\n359  20200614T2300    26.743208            0.0    4.161301       129.80557\n\n[360 rows x 5 columns]",
      "text/html": "<div>\n<style scoped>\n    .dataframe tbody tr th:only-of-type {\n        vertical-align: middle;\n    }\n\n    .dataframe tbody tr th {\n        vertical-align: top;\n    }\n\n    .dataframe thead th {\n        text-align: right;\n    }\n</style>\n<table border=\"1\" class=\"dataframe\">\n  <thead>\n    <tr style=\"text-align: right;\">\n      <th></th>\n      <th>timestamp</th>\n      <th>Temperature</th>\n      <th>Precipitation</th>\n      <th>Wind Speed</th>\n      <th>Wind Direction</th>\n    </tr>\n  </thead>\n  <tbody>\n    <tr>\n      <th>0</th>\n      <td>20200531T0000</td>\n      <td>27.083208</td>\n      <td>0.0</td>\n      <td>6.080693</td>\n      <td>151.18921</td>\n    </tr>\n    <tr>\n      <th>1</th>\n      <td>20200531T0100</td>\n      <td>26.723207</td>\n      <td>0.0</td>\n      <td>6.213462</td>\n      <td>149.03624</td>\n    </tr>\n    <tr>\n      <th>2</th>\n      <td>20200531T0200</td>\n      <td>26.303207</td>\n      <td>0.0</td>\n      <td>5.619714</td>\n      <td>148.57043</td>\n    </tr>\n    <tr>\n      <th>3</th>\n      <td>20200531T0300</td>\n      <td>25.923206</td>\n      <td>0.0</td>\n      <td>5.124306</td>\n      <td>152.10272</td>\n    </tr>\n    <tr>\n      <th>4</th>\n      <td>20200531T0400</td>\n      <td>25.633207</td>\n      <td>0.0</td>\n      <td>5.026425</td>\n      <td>147.99461</td>\n    </tr>\n    <tr>\n      <th>...</th>\n      <td>...</td>\n      <td>...</td>\n      <td>...</td>\n      <td>...</td>\n      <td>...</td>\n    </tr>\n    <tr>\n      <th>355</th>\n      <td>20200614T1900</td>\n      <td>27.773207</td>\n      <td>0.0</td>\n      <td>5.986595</td>\n      <td>159.14554</td>\n    </tr>\n    <tr>\n      <th>356</th>\n      <td>20200614T2000</td>\n      <td>27.563208</td>\n      <td>0.0</td>\n      <td>5.026425</td>\n      <td>147.99461</td>\n    </tr>\n    <tr>\n      <th>357</th>\n      <td>20200614T2100</td>\n      <td>27.483208</td>\n      <td>0.0</td>\n      <td>3.960321</td>\n      <td>137.72630</td>\n    </tr>\n    <tr>\n      <th>358</th>\n      <td>20200614T2200</td>\n      <td>27.113207</td>\n      <td>0.0</td>\n      <td>3.786256</td>\n      <td>129.28940</td>\n    </tr>\n    <tr>\n      <th>359</th>\n      <td>20200614T2300</td>\n      <td>26.743208</td>\n      <td>0.0</td>\n      <td>4.161301</td>\n      <td>129.80557</td>\n    </tr>\n  </tbody>\n</table>\n<p>360 rows × 5 columns</p>\n</div>"
     },
     "execution_count": 5,
     "metadata": {},
     "output_type": "execute_result"
    }
   ],
   "source": [
    "file_path = 'HCM.csv'\n",
    "data=pd.read_csv(file_path, delimiter=',',header=9,skipinitialspace=True)\n",
    "data"
   ]
  },
  {
   "cell_type": "code",
   "execution_count": 6,
   "metadata": {},
   "outputs": [
    {
     "name": "stdout",
     "output_type": "stream",
     "text": [
      "(29, 12, 1)\n"
     ]
    }
   ],
   "source": [
    "temperature = np.array(data['Temperature'])\n",
    "num_periods = 12\n",
    "f_horizon = 1\n",
    "x_data = temperature[11:(len(temperature)-f_horizon)]\n",
    "x_batches = x_data.reshape(-1, num_periods, 1)\n",
    "\n",
    "y_data = temperature[12:(len(temperature))]\n",
    "y_batches = y_data.reshape(-1, num_periods, 1)\n",
    "print(y_batches.shape)"
   ]
  },
  {
   "cell_type": "code",
   "execution_count": 7,
   "metadata": {},
   "outputs": [
    {
     "name": "stdout",
     "output_type": "stream",
     "text": [
      "(2, 12, 1)\n"
     ]
    }
   ],
   "source": [
    "def test_data(series, forecast, num):\n",
    "    testX = temperature[-(num + forecast):][:num].reshape(-1, num_periods, 1)\n",
    "    return testX\n",
    "X_test = test_data(temperature, f_horizon, 12*2)\n",
    "print(X_test.shape)\n"
   ]
  },
  {
   "cell_type": "code",
   "execution_count": 8,
   "metadata": {},
   "outputs": [
    {
     "name": "stdout",
     "output_type": "stream",
     "text": [
      "WARNING:tensorflow:From <ipython-input-8-1430bea6306b>:11: BasicRNNCell.__init__ (from tensorflow.python.ops.rnn_cell_impl) is deprecated and will be removed in a future version.\n",
      "Instructions for updating:\n",
      "This class is equivalent as tf.keras.layers.SimpleRNNCell, and will be replaced by that in Tensorflow 2.0.\n",
      "WARNING:tensorflow:From <ipython-input-8-1430bea6306b>:12: dynamic_rnn (from tensorflow.python.ops.rnn) is deprecated and will be removed in a future version.\n",
      "Instructions for updating:\n",
      "Please use `keras.layers.RNN(cell)`, which is equivalent to this API\n",
      "WARNING:tensorflow:From c:\\users\\hi\\pycharmprojects\\weatherforecast\\venv\\lib\\site-packages\\tensorflow\\python\\ops\\rnn_cell_impl.py:454: Layer.add_variable (from tensorflow.python.keras.engine.base_layer_v1) is deprecated and will be removed in a future version.\n",
      "Instructions for updating:\n",
      "Please use `layer.add_weight` method instead.\n",
      "WARNING:tensorflow:From c:\\users\\hi\\pycharmprojects\\weatherforecast\\venv\\lib\\site-packages\\tensorflow\\python\\ops\\resource_variable_ops.py:1659: calling BaseResourceVariable.__init__ (from tensorflow.python.ops.resource_variable_ops) with constraint is deprecated and will be removed in a future version.\n",
      "Instructions for updating:\n",
      "If using Keras pass *_constraint arguments to layers.\n",
      "WARNING:tensorflow:From c:\\users\\hi\\pycharmprojects\\weatherforecast\\venv\\lib\\site-packages\\tensorflow\\python\\ops\\rnn_cell_impl.py:460: calling Zeros.__init__ (from tensorflow.python.ops.init_ops) with dtype is deprecated and will be removed in a future version.\n",
      "Instructions for updating:\n",
      "Call initializer instance with the dtype argument instead of passing it to the constructor\n",
      "WARNING:tensorflow:From <ipython-input-8-1430bea6306b>:15: dense (from tensorflow.python.layers.core) is deprecated and will be removed in a future version.\n",
      "Instructions for updating:\n",
      "Use keras.layers.Dense instead.\n",
      "WARNING:tensorflow:From c:\\users\\hi\\pycharmprojects\\weatherforecast\\venv\\lib\\site-packages\\tensorflow\\python\\layers\\core.py:187: Layer.apply (from tensorflow.python.keras.engine.base_layer_v1) is deprecated and will be removed in a future version.\n",
      "Instructions for updating:\n",
      "Please use `layer.__call__` method instead.\n",
      "Tensor(\"softmax/BiasAdd:0\", shape=(None, 1), dtype=float32)\n"
     ]
    }
   ],
   "source": [
    "tf.compat.v1.reset_default_graph()\n",
    "inputs = 1\n",
    "rnn_size = 100\n",
    "output = 1\n",
    "learning_rate=0.001\n",
    "dropout_keep_prob = tf.compat.v1.placeholder(tf.float32)\n",
    "\n",
    "X = tf.compat.v1.placeholder(tf.float32, [None, num_periods, 1])\n",
    "Y = tf.compat.v1.placeholder(tf.float32, [None, num_periods, 1])\n",
    "\n",
    "rnn_cells=tf.compat.v1.nn.rnn_cell.BasicRNNCell(num_units=rnn_size, activation=tf.nn.relu6)\n",
    "rnn_output, states = tf.compat.v1.nn.dynamic_rnn(rnn_cells, X, dtype=tf.float32)\n",
    "\n",
    "output=tf.reshape(rnn_output, [-1, rnn_size])\n",
    "logit=tf.compat.v1.layers.dense(output, 1, name=\"softmax\")\n",
    "\n",
    "outputs=tf.reshape(logit, [-1, num_periods, 1])\n",
    "print(logit)\n",
    "\n",
    "loss = tf.reduce_sum(input_tensor=tf.square(outputs - Y))\n",
    "\n",
    "accuracy = tf.reduce_mean(input_tensor=tf.cast(tf.equal(tf.argmax(input=logit, axis=1), tf.cast(Y, tf.int64)), tf.float32))\n",
    "\n",
    "optimizer = tf.compat.v1.train.AdamOptimizer(learning_rate=learning_rate)\n",
    "train_step=optimizer.minimize(loss)\n",
    "\n",
    "init=tf.compat.v1.global_variables_initializer()"
   ]
  },
  {
   "cell_type": "code",
   "execution_count": 9,
   "metadata": {},
   "outputs": [],
   "source": [
    "epochs = 1000\n",
    "\n",
    "sess = tf.compat.v1.Session()\n",
    "init = tf.compat.v1.global_variables_initializer()\n",
    "sess.run(init)\n",
    "saver = tf.compat.v1.train.Saver()\n",
    "\n",
    "for epoch in range(epochs):\n",
    "    train_dict = {X: x_batches, Y: y_batches, dropout_keep_prob:0.5}\n",
    "    sess.run(train_step, feed_dict=train_dict)\n",
    "y_pred=sess.run(outputs, feed_dict={X: X_test})\n",
    "save_path = saver.save(sess, \"models/HCM.ckpt\")\n"
   ]
  },
  {
   "cell_type": "code",
   "execution_count": 10,
   "metadata": {},
   "outputs": [
    {
     "name": "stdout",
     "output_type": "stream",
     "text": [
      "INFO:tensorflow:Restoring parameters from models/HCM.ckpt\n",
      "[[[26.695232]\n",
      "  [25.503632]\n",
      "  [25.391632]\n",
      "  [25.306332]\n",
      "  [25.320957]\n",
      "  [25.525993]\n",
      "  [26.094994]\n",
      "  [28.048054]\n",
      "  [29.117865]\n",
      "  [29.399368]\n",
      "  [30.372623]\n",
      "  [31.811567]]\n",
      "\n",
      " [[30.712128]\n",
      "  [31.171688]\n",
      "  [30.273945]\n",
      "  [29.767632]\n",
      "  [29.175274]\n",
      "  [29.500645]\n",
      "  [28.681953]\n",
      "  [28.297192]\n",
      "  [27.670315]\n",
      "  [27.096138]\n",
      "  [26.938557]\n",
      "  [27.098785]]]\n"
     ]
    }
   ],
   "source": [
    "with tf.compat.v1.Session() as sess:\n",
    "  # Restore variables from disk.\n",
    "    saver = tf.compat.v1.train.Saver()\n",
    "    saver.restore(sess, \"models/HCM.ckpt\")\n",
    "    y_pred=sess.run(outputs, feed_dict={X: X_test})\n",
    "    print (y_pred)"
   ]
  },
  {
   "cell_type": "code",
   "execution_count": 11,
   "metadata": {
    "pycharm": {
     "name": "#%%\n"
    }
   },
   "outputs": [
    {
     "data": {
      "text/plain": "<Figure size 1080x720 with 1 Axes>",
      "image/png": "[encoded data removed]"
     },
     "metadata": {
      "needs_background": "light"
     },
     "output_type": "display_data"
    }
   ],
   "source": [
    "plt.figure(figsize=(15,10))\n",
    "plt.title(\"Compare Weather Forecast vs Actual\", fontsize=14)\n",
    "plt.plot(pd.Series(np.ravel(y_pred)),\"r.\",  markersize=9, label=\"Forecast\")\n",
    "plt.legend(loc=\"upper left\")\n",
    "plt.xlabel(\"Time Periods\")\n",
    "plt.show()\n"
   ]
  }
 ],
 "metadata": {
  "kernelspec": {
   "display_name": "Python 3",
   "language": "python",
   "name": "python3"
  },
  "language_info": {
   "codemirror_mode": {
    "name": "ipython",
    "version": 3
   },
   "file_extension": ".py",
   "mimetype": "text/x-python",
   "name": "python",
   "nbconvert_exporter": "python",
   "pygments_lexer": "ipython3",
   "version": "3.5.2"
  }
 },
 "nbformat": 4,
 "nbformat_minor": 2
}